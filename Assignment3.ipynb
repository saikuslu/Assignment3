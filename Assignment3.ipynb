{
  "nbformat": 4,
  "nbformat_minor": 0,
  "metadata": {
    "colab": {
      "provenance": []
    },
    "kernelspec": {
      "name": "python3",
      "display_name": "Python 3"
    },
    "language_info": {
      "name": "python"
    }
  },
  "cells": [
    {
      "cell_type": "code",
      "execution_count": 4,
      "metadata": {
        "colab": {
          "base_uri": "https://localhost:8080/"
        },
        "id": "i119VhueFqG0",
        "outputId": "9ff25b34-ca9c-4c01-ebe8-dacba4b915f9"
      },
      "outputs": [
        {
          "output_type": "stream",
          "name": "stdout",
          "text": [
            "[[20 16  1  6  5]\n",
            " [ 9  3 11 17 18]\n",
            " [ 3  9  8  3 19]]\n",
            "(3, 5)\n",
            "[[ 0 16  1  6  5]\n",
            " [ 9  3 11 17  0]\n",
            " [ 3  9  8  3  0]]\n"
          ]
        }
      ],
      "source": [
        "import numpy as np\n",
        "\n",
        "# Creating a random vector of size 15 with integers of range 1-20\n",
        "random_vector = np.random.randint(low=1, high=21, size=15)\n",
        "\n",
        "# Reshaping the vector to 3 by 5 array\n",
        "array_3x5 = random_vector.reshape(3, 5)\n",
        "print(array_3x5)\n",
        "\n",
        "# Printing the shape of the array\n",
        "print(array_3x5.shape)\n",
        "\n",
        "# Replacing the max in each row by 0\n",
        "array_3x5[np.arange(3), array_3x5.argmax(axis=1)] = 0\n",
        "\n",
        "# Printing the modified array\n",
        "print(array_3x5)"
      ]
    },
    {
      "cell_type": "code",
      "source": [
        "import numpy as np\n",
        "\n",
        "# Defining the input matrix\n",
        "A = np.array([[3, -2], [1, 0]])\n",
        "\n",
        "# Computing the eigenvalues and right eigenvectors\n",
        "eigenvalues, eigenvectors = np.linalg.eig(A)\n",
        "\n",
        "# Printing the results\n",
        "print(\"Eigenvalues: \", eigenvalues)\n",
        "print(\"Right eigenvectors:\\n\", eigenvectors)\n"
      ],
      "metadata": {
        "colab": {
          "base_uri": "https://localhost:8080/"
        },
        "id": "4tmnRAfpF4K1",
        "outputId": "012512bb-c5f6-4108-eff8-23b30a269e5d"
      },
      "execution_count": 2,
      "outputs": [
        {
          "output_type": "stream",
          "name": "stdout",
          "text": [
            "Eigenvalues:  [2. 1.]\n",
            "Right eigenvectors:\n",
            " [[0.89442719 0.70710678]\n",
            " [0.4472136  0.70710678]]\n"
          ]
        }
      ]
    },
    {
      "cell_type": "code",
      "source": [
        "import numpy as np\n",
        "\n",
        "# Defining the input array\n",
        "A = np.array([[0, 1, 2], [3, 4, 5]])\n",
        "\n",
        "# Computing the sum of the diagonal elements\n",
        "diag_sum = np.trace(A)\n",
        "\n",
        "# Printing the result\n",
        "print(\"Sum of diagonal elements:\", diag_sum)\n",
        "\n"
      ],
      "metadata": {
        "colab": {
          "base_uri": "https://localhost:8080/"
        },
        "id": "fmM6ms9XF8tX",
        "outputId": "c28e95d0-acbb-4ff3-812d-61542110c981"
      },
      "execution_count": 5,
      "outputs": [
        {
          "output_type": "stream",
          "name": "stdout",
          "text": [
            "Sum of diagonal elements: 4\n"
          ]
        }
      ]
    },
    {
      "cell_type": "code",
      "source": [
        "import numpy as np\n",
        "\n",
        "# Defining the input array\n",
        "A = np.array([[1, 2], [3, 4], [5, 6]])\n",
        "\n",
        "# Reshaping the array to a 2x3 shape without changing its data\n",
        "B = A.reshape((2, 3))\n",
        "\n",
        "# Printing the original and reshaped arrays\n",
        "print(\"Original array:\\n\", A)\n",
        "print(\"Reshaped array:\\n\", B)\n"
      ],
      "metadata": {
        "colab": {
          "base_uri": "https://localhost:8080/"
        },
        "id": "TCwS_tMcGBPY",
        "outputId": "14912dc2-3367-4c75-f4fa-7622db382268"
      },
      "execution_count": 4,
      "outputs": [
        {
          "output_type": "stream",
          "name": "stdout",
          "text": [
            "Original array:\n",
            " [[1 2]\n",
            " [3 4]\n",
            " [5 6]]\n",
            "Reshaped array:\n",
            " [[1 2 3]\n",
            " [4 5 6]]\n"
          ]
        }
      ]
    },
    {
      "cell_type": "code",
      "source": [
        "import matplotlib.pyplot as plt\n",
        "\n",
        "# Defining the programming languages and their popularity\n",
        "languages = ['Java', 'Python', 'PHP', 'JavaScript', 'C#', 'C++']\n",
        "popularity = [22.2, 17.6, 8.8, 8, 7.7, 6.7]\n",
        "\n",
        "# Creating a pie chart\n",
        "plt.pie(popularity, labels=languages, autopct='%1.1f%%')\n",
        "\n",
        "# Adding a title\n",
        "plt.title('Popularity of Programming Languages')\n",
        "\n",
        "# Showing the chart\n",
        "plt.show()\n"
      ],
      "metadata": {
        "colab": {
          "base_uri": "https://localhost:8080/",
          "height": 264
        },
        "id": "PpSeVc3bGGzG",
        "outputId": "84b3a6ea-14e4-40da-dab7-3c074900fead"
      },
      "execution_count": 5,
      "outputs": [
        {
          "output_type": "display_data",
          "data": {
            "text/plain": [
              "<Figure size 432x288 with 1 Axes>"
            ],
            "image/png": "[encoded data removed]"
          },
          "metadata": {}
        }
      ]
    }
  ]
}